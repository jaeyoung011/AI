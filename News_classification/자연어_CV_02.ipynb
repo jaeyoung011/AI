{
 "cells": [
  {
   "cell_type": "code",
   "execution_count": 18,
   "id": "d4f1cdd9",
   "metadata": {},
   "outputs": [],
   "source": [
    "# 데이터 처리 \n",
    "import pandas as pd \n",
    "import numpy as np\n",
    "# 시각화 \n",
    "import seaborn as sns \n",
    "import matplotlib as mpl\n",
    "import matplotlib.pyplot as plt \n",
    "# 시각화 옵션\n",
    "from IPython.display import set_matplotlib_formats\n",
    "# 한글 글꼴 설정\n",
    "mpl.rc('font',family ='Malgun Gothic')\n",
    "# 음수값 설정 \n",
    "mpl.rc('axes',unicode_minus= True )\n",
    "# 그래프 선명하게 출력\n",
    "set_matplotlib_formats('retina')\n",
    "\n",
    "\n",
    "import pandas as pd\n",
    "import numpy as np\n",
    "import re\n",
    "\n",
    "from sklearn.model_selection import StratifiedKFold\n",
    "from tensorflow.keras.callbacks import EarlyStopping, ReduceLROnPlateau\n",
    "\n",
    "from sklearn.feature_extraction.text import TfidfVectorizer\n",
    "\n",
    "import tensorflow as tf\n",
    "from tensorflow.keras.layers import Input, Dense, BatchNormalization, Dropout\n",
    "from tensorflow.keras import Sequential"
   ]
  },
  {
   "cell_type": "code",
   "execution_count": 2,
   "id": "c4f7d10f",
   "metadata": {},
   "outputs": [],
   "source": [
    "train      = pd.read_csv(\"train_data.csv\")\n",
    "test       = pd.read_csv(\"test_data.csv\")\n",
    "submission = pd.read_csv(\"sample_submission.csv\")\n",
    "topic_dict = pd.read_csv(\"topic_dict.csv\")"
   ]
  },
  {
   "cell_type": "code",
   "execution_count": null,
   "id": "aff2b428",
   "metadata": {},
   "outputs": [],
   "source": []
  },
  {
   "cell_type": "code",
   "execution_count": 3,
   "id": "b5382336",
   "metadata": {},
   "outputs": [
    {
     "name": "stdout",
     "output_type": "stream",
     "text": [
      "(45654, 3)\n"
     ]
    },
    {
     "data": {
      "text/html": [
       "<div>\n",
       "<style scoped>\n",
       "    .dataframe tbody tr th:only-of-type {\n",
       "        vertical-align: middle;\n",
       "    }\n",
       "\n",
       "    .dataframe tbody tr th {\n",
       "        vertical-align: top;\n",
       "    }\n",
       "\n",
       "    .dataframe thead th {\n",
       "        text-align: right;\n",
       "    }\n",
       "</style>\n",
       "<table border=\"1\" class=\"dataframe\">\n",
       "  <thead>\n",
       "    <tr style=\"text-align: right;\">\n",
       "      <th></th>\n",
       "      <th>index</th>\n",
       "      <th>title</th>\n",
       "      <th>topic_idx</th>\n",
       "    </tr>\n",
       "  </thead>\n",
       "  <tbody>\n",
       "    <tr>\n",
       "      <th>0</th>\n",
       "      <td>0</td>\n",
       "      <td>인천→핀란드 항공기 결항…휴가철 여행객 분통</td>\n",
       "      <td>4</td>\n",
       "    </tr>\n",
       "    <tr>\n",
       "      <th>1</th>\n",
       "      <td>1</td>\n",
       "      <td>실리콘밸리 넘어서겠다…구글 15조원 들여 美전역 거점화</td>\n",
       "      <td>4</td>\n",
       "    </tr>\n",
       "    <tr>\n",
       "      <th>2</th>\n",
       "      <td>2</td>\n",
       "      <td>이란 외무 긴장완화 해결책은 미국이 경제전쟁 멈추는 것</td>\n",
       "      <td>4</td>\n",
       "    </tr>\n",
       "    <tr>\n",
       "      <th>3</th>\n",
       "      <td>3</td>\n",
       "      <td>NYT 클린턴 측근韓기업 특수관계 조명…공과 사 맞물려종합</td>\n",
       "      <td>4</td>\n",
       "    </tr>\n",
       "    <tr>\n",
       "      <th>4</th>\n",
       "      <td>4</td>\n",
       "      <td>시진핑 트럼프에 중미 무역협상 조속 타결 희망</td>\n",
       "      <td>4</td>\n",
       "    </tr>\n",
       "  </tbody>\n",
       "</table>\n",
       "</div>"
      ],
      "text/plain": [
       "   index                             title  topic_idx\n",
       "0      0          인천→핀란드 항공기 결항…휴가철 여행객 분통          4\n",
       "1      1    실리콘밸리 넘어서겠다…구글 15조원 들여 美전역 거점화          4\n",
       "2      2    이란 외무 긴장완화 해결책은 미국이 경제전쟁 멈추는 것          4\n",
       "3      3  NYT 클린턴 측근韓기업 특수관계 조명…공과 사 맞물려종합          4\n",
       "4      4         시진핑 트럼프에 중미 무역협상 조속 타결 희망          4"
      ]
     },
     "execution_count": 3,
     "metadata": {},
     "output_type": "execute_result"
    }
   ],
   "source": [
    "df1 = pd.read_csv('train_data.csv')\n",
    "print(df1.shape)\n",
    "df1.head()"
   ]
  },
  {
   "cell_type": "code",
   "execution_count": null,
   "id": "f943588d",
   "metadata": {},
   "outputs": [],
   "source": []
  },
  {
   "cell_type": "code",
   "execution_count": 4,
   "id": "43a18511",
   "metadata": {},
   "outputs": [],
   "source": [
    "X_train = df1['title']\n",
    "Y_train = df1['topic_idx']"
   ]
  },
  {
   "cell_type": "code",
   "execution_count": null,
   "id": "71cc2d44",
   "metadata": {},
   "outputs": [],
   "source": []
  },
  {
   "cell_type": "markdown",
   "id": "8398c572",
   "metadata": {},
   "source": [
    "- 불용어 및 특수문자 처리"
   ]
  },
  {
   "cell_type": "code",
   "execution_count": 5,
   "id": "3c9deadc",
   "metadata": {},
   "outputs": [],
   "source": [
    "from konlpy.tag import Okt\n",
    "import re "
   ]
  },
  {
   "cell_type": "code",
   "execution_count": 6,
   "id": "077be9cc",
   "metadata": {},
   "outputs": [],
   "source": [
    "df_stopword  = pd.read_csv('stopword.txt',header=None, names=['불용어'])\n",
    "stopword_set = set(df_stopword['불용어'].values.tolist())"
   ]
  },
  {
   "cell_type": "code",
   "execution_count": 7,
   "id": "18d1761a",
   "metadata": {},
   "outputs": [],
   "source": [
    "# 불용어 및 특수 기호 처리함수 구성 \n",
    "def stopword_function(X): # Series 형태로 Input \n",
    "    clean_train_review = []\n",
    "    okt = Okt()\n",
    "    # 모든 X 값에 대해 불용어 및 특수기호 처리 \n",
    "    for i in X:\n",
    "\n",
    "        # 문자데이터에 대한 불용어 처리 \n",
    "        if type(i) == str:\n",
    "            # 특수 문자 처리 \n",
    "            review_text = re.sub(\"[!1(+.),.@@\\/n2345']?^가-힣ㄱ-ㅎㅏ-ㅣ\\\\s]\",\"\",i) \n",
    "            # Tokenizing & Stemming \n",
    "            word_text = okt.morphs(review_text,stem=True)\n",
    "            # StopWord \n",
    "            word_text = [token for token in word_text if not token in stopword_set]  \n",
    "\n",
    "            clean_train_review.append(word_text)\n",
    "\n",
    "        # 숫자데이터가 오는 경우, 공백을 append     \n",
    "        else:\n",
    "            clean_train_review.append([])\n",
    "            \n",
    "    return clean_train_review"
   ]
  },
  {
   "cell_type": "code",
   "execution_count": 8,
   "id": "909776e3",
   "metadata": {},
   "outputs": [],
   "source": [
    "X_train_clean = stopword_function(X_train) 불용어 처리"
   ]
  },
  {
   "cell_type": "code",
   "execution_count": null,
   "id": "5cc004de",
   "metadata": {},
   "outputs": [],
   "source": []
  },
  {
   "cell_type": "code",
   "execution_count": 9,
   "id": "c8a79668",
   "metadata": {},
   "outputs": [
    {
     "data": {
      "text/plain": [
       "count    45654.000000\n",
       "mean        27.330552\n",
       "std          4.968172\n",
       "min          4.000000\n",
       "25%         25.000000\n",
       "50%         28.000000\n",
       "75%         31.000000\n",
       "max         44.000000\n",
       "Name: title, dtype: float64"
      ]
     },
     "execution_count": 9,
     "metadata": {},
     "output_type": "execute_result"
    }
   ],
   "source": [
    "X_length = X_train.apply(len)\n",
    "X_length.describe()\n",
    "\n",
    "# max 44 으로 잡는걸로 결정"
   ]
  },
  {
   "cell_type": "code",
   "execution_count": null,
   "id": "2b1a6589",
   "metadata": {},
   "outputs": [],
   "source": []
  },
  {
   "cell_type": "code",
   "execution_count": 12,
   "id": "0b1bcfc1",
   "metadata": {},
   "outputs": [],
   "source": [
    "from tensorflow.keras.preprocessing.text import Tokenizer\n",
    "from tensorflow.keras.preprocessing.sequence import pad_sequences"
   ]
  },
  {
   "cell_type": "code",
   "execution_count": 13,
   "id": "ed1d3a50",
   "metadata": {},
   "outputs": [],
   "source": [
    "model_token = Tokenizer()\n",
    "model_token.fit_on_texts(X_train_clean)"
   ]
  },
  {
   "cell_type": "code",
   "execution_count": 14,
   "id": "80d47664",
   "metadata": {},
   "outputs": [
    {
     "data": {
      "text/plain": [
       "30505"
      ]
     },
     "execution_count": 14,
     "metadata": {},
     "output_type": "execute_result"
    }
   ],
   "source": [
    "# Embedding Layer 구성 작업, Input Unit  \n",
    "len(model_token.word_index)"
   ]
  },
  {
   "cell_type": "code",
   "execution_count": null,
   "id": "1eb12dd6",
   "metadata": {},
   "outputs": [],
   "source": []
  },
  {
   "cell_type": "code",
   "execution_count": 19,
   "id": "d516bcfe",
   "metadata": {},
   "outputs": [],
   "source": [
    "X_sequence = model_token.texts_to_sequences(X_train_clean)\n",
    "\n",
    "max_length = 44 \n",
    "train_x    = pad_sequences(X_sequence, maxlen=max_length, padding='post')"
   ]
  },
  {
   "cell_type": "code",
   "execution_count": 21,
   "id": "dd3ec338",
   "metadata": {},
   "outputs": [
    {
     "data": {
      "text/plain": [
       "30505"
      ]
     },
     "execution_count": 21,
     "metadata": {},
     "output_type": "execute_result"
    }
   ],
   "source": [
    "train_x.max()"
   ]
  },
  {
   "cell_type": "code",
   "execution_count": 22,
   "id": "36afd8f7",
   "metadata": {},
   "outputs": [],
   "source": [
    "import tensorflow\n",
    "from tensorflow.keras.models import Sequential\n",
    "from tensorflow.keras        import layers\n",
    "from tensorflow.keras.optimizers import RMSprop, SGD\n",
    "from tensorflow.keras.utils  import to_categorical"
   ]
  },
  {
   "cell_type": "markdown",
   "id": "6b89ed64",
   "metadata": {},
   "source": [
    "# Random Seed \n",
    "\n",
    "tensorflow.random.set_seed(7)"
   ]
  },
  {
   "cell_type": "code",
   "execution_count": 23,
   "id": "76dffb88",
   "metadata": {},
   "outputs": [
    {
     "data": {
      "text/plain": [
       "array([[0., 0., 0., ..., 1., 0., 0.],\n",
       "       [0., 0., 0., ..., 1., 0., 0.],\n",
       "       [0., 0., 0., ..., 1., 0., 0.],\n",
       "       ...,\n",
       "       [0., 1., 0., ..., 0., 0., 0.],\n",
       "       [0., 0., 1., ..., 0., 0., 0.],\n",
       "       [0., 0., 1., ..., 0., 0., 0.]], dtype=float32)"
      ]
     },
     "execution_count": 23,
     "metadata": {},
     "output_type": "execute_result"
    }
   ],
   "source": [
    "# Y 값을 Matrix 형태로 변환\n",
    "train_y = to_categorical(Y_train.astype(int))\n",
    "train_y"
   ]
  },
  {
   "cell_type": "markdown",
   "id": "f652fac7",
   "metadata": {},
   "source": [
    "- Test Set 데이터 분류 실시 "
   ]
  },
  {
   "cell_type": "code",
   "execution_count": 24,
   "id": "63435754",
   "metadata": {},
   "outputs": [
    {
     "name": "stdout",
     "output_type": "stream",
     "text": [
      "(9131, 2)\n"
     ]
    },
    {
     "data": {
      "text/html": [
       "<div>\n",
       "<style scoped>\n",
       "    .dataframe tbody tr th:only-of-type {\n",
       "        vertical-align: middle;\n",
       "    }\n",
       "\n",
       "    .dataframe tbody tr th {\n",
       "        vertical-align: top;\n",
       "    }\n",
       "\n",
       "    .dataframe thead th {\n",
       "        text-align: right;\n",
       "    }\n",
       "</style>\n",
       "<table border=\"1\" class=\"dataframe\">\n",
       "  <thead>\n",
       "    <tr style=\"text-align: right;\">\n",
       "      <th></th>\n",
       "      <th>index</th>\n",
       "      <th>title</th>\n",
       "    </tr>\n",
       "  </thead>\n",
       "  <tbody>\n",
       "    <tr>\n",
       "      <th>0</th>\n",
       "      <td>45654</td>\n",
       "      <td>유튜브 내달 2일까지 크리에이터 지원 공간 운영</td>\n",
       "    </tr>\n",
       "    <tr>\n",
       "      <th>1</th>\n",
       "      <td>45655</td>\n",
       "      <td>어버이날 맑다가 흐려져…남부지방 옅은 황사</td>\n",
       "    </tr>\n",
       "  </tbody>\n",
       "</table>\n",
       "</div>"
      ],
      "text/plain": [
       "   index                       title\n",
       "0  45654  유튜브 내달 2일까지 크리에이터 지원 공간 운영\n",
       "1  45655     어버이날 맑다가 흐려져…남부지방 옅은 황사"
      ]
     },
     "execution_count": 24,
     "metadata": {},
     "output_type": "execute_result"
    }
   ],
   "source": [
    "# 데이터 불러오기 \n",
    "df_test = pd.read_csv(\"test_data.csv\")\n",
    "print(df_test.shape)\n",
    "df_test.head(2)"
   ]
  },
  {
   "cell_type": "code",
   "execution_count": 25,
   "id": "a43be89f",
   "metadata": {},
   "outputs": [],
   "source": [
    "# 특수문자처리 / 불용어 처리 \n",
    "X_test_clean = stopword_function(df_test['title'])"
   ]
  },
  {
   "cell_type": "code",
   "execution_count": 26,
   "id": "153c9939",
   "metadata": {},
   "outputs": [],
   "source": [
    "# Text to Sequence / Padding \n",
    "X_test_sequence = model_token.texts_to_sequences(X_test_clean)\n",
    "test_x    = pad_sequences(X_test_sequence,maxlen=max_length, padding='post')"
   ]
  },
  {
   "cell_type": "code",
   "execution_count": null,
   "id": "7a9662c9",
   "metadata": {},
   "outputs": [],
   "source": []
  },
  {
   "cell_type": "code",
   "execution_count": 123,
   "id": "ec561b55",
   "metadata": {},
   "outputs": [],
   "source": [
    "# 전처리 완료"
   ]
  },
  {
   "cell_type": "markdown",
   "id": "905ca496",
   "metadata": {},
   "source": [
    "- Model"
   ]
  },
  {
   "cell_type": "code",
   "execution_count": 124,
   "id": "bac274ee",
   "metadata": {},
   "outputs": [
    {
     "name": "stdout",
     "output_type": "stream",
     "text": [
      "(45654, 45) (9131, 45)\n"
     ]
    }
   ],
   "source": [
    "print(train_x.shape, test_x.shape)"
   ]
  },
  {
   "cell_type": "code",
   "execution_count": null,
   "id": "63fa3f39",
   "metadata": {},
   "outputs": [],
   "source": []
  },
  {
   "cell_type": "code",
   "execution_count": null,
   "id": "1bd368d1",
   "metadata": {},
   "outputs": [],
   "source": []
  },
  {
   "cell_type": "code",
   "execution_count": null,
   "id": "ac53ac6d",
   "metadata": {},
   "outputs": [],
   "source": []
  },
  {
   "cell_type": "code",
   "execution_count": null,
   "id": "cdf4164b",
   "metadata": {},
   "outputs": [],
   "source": []
  },
  {
   "cell_type": "code",
   "execution_count": 27,
   "id": "5ec86ab9",
   "metadata": {},
   "outputs": [],
   "source": [
    "es = EarlyStopping(monitor='val_loss', min_delta=0.001, patience=3,\n",
    "                   verbose=1, mode='min', baseline=None, restore_best_weights=True)"
   ]
  },
  {
   "cell_type": "code",
   "execution_count": 37,
   "id": "30e59e75",
   "metadata": {},
   "outputs": [
    {
     "name": "stdout",
     "output_type": "stream",
     "text": [
      "Model: \"sequential_4\"\n",
      "_________________________________________________________________\n",
      "Layer (type)                 Output Shape              Param #   \n",
      "=================================================================\n",
      "embedding_4 (Embedding)      (None, 44, 64)            1984000   \n",
      "_________________________________________________________________\n",
      "dropout_8 (Dropout)          (None, 44, 64)            0         \n",
      "_________________________________________________________________\n",
      "bidirectional_4 (Bidirection (None, 64)                24832     \n",
      "_________________________________________________________________\n",
      "dropout_9 (Dropout)          (None, 64)                0         \n",
      "_________________________________________________________________\n",
      "dense_7 (Dense)              (None, 7)                 455       \n",
      "=================================================================\n",
      "Total params: 2,009,287\n",
      "Trainable params: 2,009,287\n",
      "Non-trainable params: 0\n",
      "_________________________________________________________________\n"
     ]
    }
   ],
   "source": [
    "seed=7\n",
    "\n",
    "model_lstm = Sequential()\n",
    "\n",
    "model_lstm.add(layers.Embedding(31000,64, input_length=max_length))\n",
    "\n",
    "model_lstm.add(Dropout(0.2)) # ADDED\n",
    "\n",
    "model_lstm.add(layers.Bidirectional(layers.LSTM(32)))\n",
    "\n",
    "model_lstm.add(Dropout(0.2)) # ADDED\n",
    "\n",
    "\n",
    "\n",
    "\n",
    "\n",
    "model_lstm.add(layers.Dense(7, activation='softmax'))\n",
    "\n",
    "model_lstm.compile(optimizer=RMSprop(), loss='categorical_crossentropy', metrics=['acc'])\n",
    "\n",
    "model_lstm.summary()"
   ]
  },
  {
   "cell_type": "code",
   "execution_count": 35,
   "id": "6eaa9803",
   "metadata": {},
   "outputs": [
    {
     "name": "stdout",
     "output_type": "stream",
     "text": [
      "Epoch 1/8\n",
      "203/203 [==============================] - 7s 20ms/step - loss: 1.3170 - acc: 0.5707 - val_loss: 1.1957 - val_acc: 0.5889\n",
      "Epoch 2/8\n",
      "203/203 [==============================] - 3s 17ms/step - loss: 0.6090 - acc: 0.8128 - val_loss: 0.7913 - val_acc: 0.7412\n",
      "Epoch 3/8\n",
      "203/203 [==============================] - 3s 16ms/step - loss: 0.4270 - acc: 0.8695 - val_loss: 0.7470 - val_acc: 0.7466\n",
      "Epoch 4/8\n",
      "203/203 [==============================] - 3s 16ms/step - loss: 0.3479 - acc: 0.8925 - val_loss: 0.6877 - val_acc: 0.7665\n",
      "Epoch 5/8\n",
      "203/203 [==============================] - 3s 16ms/step - loss: 0.2981 - acc: 0.9083 - val_loss: 0.6192 - val_acc: 0.7892\n",
      "Epoch 6/8\n",
      "203/203 [==============================] - 3s 17ms/step - loss: 0.2612 - acc: 0.9187 - val_loss: 0.6301 - val_acc: 0.7863\n",
      "Epoch 7/8\n",
      "203/203 [==============================] - 3s 16ms/step - loss: 0.2329 - acc: 0.9273 - val_loss: 0.6264 - val_acc: 0.7910\n",
      "Epoch 8/8\n",
      "203/203 [==============================] - 3s 16ms/step - loss: 0.2103 - acc: 0.9341 - val_loss: 0.6400 - val_acc: 0.7867\n",
      "Restoring model weights from the end of the best epoch.\n",
      "Epoch 00008: early stopping\n"
     ]
    }
   ],
   "source": [
    "history = model_lstm.fit(train_x, train_y,\n",
    "                        epochs=8, batch_size=180, validation_split=0.2, callbacks=es)"
   ]
  },
  {
   "cell_type": "code",
   "execution_count": 38,
   "id": "7a61a1be",
   "metadata": {},
   "outputs": [
    {
     "name": "stdout",
     "output_type": "stream",
     "text": [
      "training model for CV #1\n",
      "Epoch 1/20\n",
      "229/229 [==============================] - 6s 18ms/step - loss: 1.3829 - acc: 0.5169 - val_loss: 0.8298 - val_acc: 0.7608\n",
      "Epoch 2/20\n",
      "229/229 [==============================] - 4s 16ms/step - loss: 0.5914 - acc: 0.8164 - val_loss: 0.5283 - val_acc: 0.8254\n",
      "Epoch 3/20\n",
      "229/229 [==============================] - 4s 16ms/step - loss: 0.4052 - acc: 0.8752 - val_loss: 0.4782 - val_acc: 0.8408\n",
      "Epoch 4/20\n",
      "229/229 [==============================] - 4s 16ms/step - loss: 0.3305 - acc: 0.8965 - val_loss: 0.4592 - val_acc: 0.8537\n",
      "Epoch 5/20\n",
      "229/229 [==============================] - 4s 16ms/step - loss: 0.2833 - acc: 0.9107 - val_loss: 0.4883 - val_acc: 0.8463\n",
      "Epoch 6/20\n",
      "229/229 [==============================] - 4s 16ms/step - loss: 0.2516 - acc: 0.9202 - val_loss: 0.5041 - val_acc: 0.8469\n",
      "Epoch 7/20\n",
      "229/229 [==============================] - 4s 16ms/step - loss: 0.2252 - acc: 0.9284 - val_loss: 0.5156 - val_acc: 0.8445\n",
      "Restoring model weights from the end of the best epoch.\n",
      "Epoch 00007: early stopping\n",
      "training model for CV #2\n",
      "Epoch 1/20\n",
      "229/229 [==============================] - 4s 16ms/step - loss: 0.3058 - acc: 0.9038 - val_loss: 0.2751 - val_acc: 0.9085\n",
      "Epoch 2/20\n",
      "229/229 [==============================] - 4s 16ms/step - loss: 0.2639 - acc: 0.9167 - val_loss: 0.2918 - val_acc: 0.9010\n",
      "Epoch 3/20\n",
      "229/229 [==============================] - 4s 16ms/step - loss: 0.2371 - acc: 0.9248 - val_loss: 0.3168 - val_acc: 0.8962\n",
      "Epoch 4/20\n",
      "229/229 [==============================] - 4s 16ms/step - loss: 0.2134 - acc: 0.9322 - val_loss: 0.3335 - val_acc: 0.8940\n",
      "Restoring model weights from the end of the best epoch.\n",
      "Epoch 00004: early stopping\n",
      "training model for CV #3\n",
      "Epoch 1/20\n",
      "229/229 [==============================] - 4s 16ms/step - loss: 0.2739 - acc: 0.9133 - val_loss: 0.2599 - val_acc: 0.9144\n",
      "Epoch 2/20\n",
      "229/229 [==============================] - 4s 16ms/step - loss: 0.2417 - acc: 0.9241 - val_loss: 0.2646 - val_acc: 0.9146\n",
      "Epoch 3/20\n",
      "229/229 [==============================] - 4s 16ms/step - loss: 0.2169 - acc: 0.9306 - val_loss: 0.2743 - val_acc: 0.9128\n",
      "Epoch 4/20\n",
      "229/229 [==============================] - 4s 16ms/step - loss: 0.1965 - acc: 0.9380 - val_loss: 0.3015 - val_acc: 0.9049\n",
      "Restoring model weights from the end of the best epoch.\n",
      "Epoch 00004: early stopping\n",
      "training model for CV #4\n",
      "Epoch 1/20\n",
      "229/229 [==============================] - 4s 16ms/step - loss: 0.2487 - acc: 0.9202 - val_loss: 0.2073 - val_acc: 0.9332\n",
      "Epoch 2/20\n",
      "229/229 [==============================] - 4s 16ms/step - loss: 0.2211 - acc: 0.9302 - val_loss: 0.2279 - val_acc: 0.9205\n",
      "Epoch 3/20\n",
      "229/229 [==============================] - 4s 16ms/step - loss: 0.1962 - acc: 0.9376 - val_loss: 0.2542 - val_acc: 0.9198\n",
      "Epoch 4/20\n",
      "229/229 [==============================] - 4s 16ms/step - loss: 0.1803 - acc: 0.9428 - val_loss: 0.2737 - val_acc: 0.9117\n",
      "Restoring model weights from the end of the best epoch.\n",
      "Epoch 00004: early stopping\n",
      "training model for CV #5\n",
      "Epoch 1/20\n",
      "229/229 [==============================] - 4s 16ms/step - loss: 0.2242 - acc: 0.9282 - val_loss: 0.2060 - val_acc: 0.9317\n",
      "Epoch 2/20\n",
      "229/229 [==============================] - 4s 16ms/step - loss: 0.2030 - acc: 0.9363 - val_loss: 0.2319 - val_acc: 0.9220\n",
      "Epoch 3/20\n",
      "229/229 [==============================] - 4s 16ms/step - loss: 0.1824 - acc: 0.9426 - val_loss: 0.2508 - val_acc: 0.9174\n",
      "Epoch 4/20\n",
      "229/229 [==============================] - 4s 16ms/step - loss: 0.1657 - acc: 0.9485 - val_loss: 0.3255 - val_acc: 0.8959\n",
      "Restoring model weights from the end of the best epoch.\n",
      "Epoch 00004: early stopping\n",
      "training model for CV #6\n",
      "Epoch 1/20\n",
      "229/229 [==============================] - 4s 16ms/step - loss: 0.2096 - acc: 0.9340 - val_loss: 0.1679 - val_acc: 0.9435\n",
      "Epoch 2/20\n",
      "229/229 [==============================] - 4s 16ms/step - loss: 0.1880 - acc: 0.9401 - val_loss: 0.1835 - val_acc: 0.9367\n",
      "Epoch 3/20\n",
      "229/229 [==============================] - 4s 16ms/step - loss: 0.1699 - acc: 0.9477 - val_loss: 0.2241 - val_acc: 0.9240\n",
      "Epoch 4/20\n",
      "229/229 [==============================] - 4s 16ms/step - loss: 0.1571 - acc: 0.9516 - val_loss: 0.2239 - val_acc: 0.9273\n",
      "Restoring model weights from the end of the best epoch.\n",
      "Epoch 00004: early stopping\n",
      "training model for CV #7\n",
      "Epoch 1/20\n",
      "229/229 [==============================] - 4s 16ms/step - loss: 0.1912 - acc: 0.9402 - val_loss: 0.1585 - val_acc: 0.9476\n",
      "Epoch 2/20\n",
      "229/229 [==============================] - 4s 15ms/step - loss: 0.1730 - acc: 0.9449 - val_loss: 0.1808 - val_acc: 0.9413\n",
      "Epoch 3/20\n",
      "229/229 [==============================] - 4s 16ms/step - loss: 0.1571 - acc: 0.9507 - val_loss: 0.2044 - val_acc: 0.9336\n",
      "Epoch 4/20\n",
      "229/229 [==============================] - 4s 16ms/step - loss: 0.1446 - acc: 0.9544 - val_loss: 0.2208 - val_acc: 0.9268\n",
      "Restoring model weights from the end of the best epoch.\n",
      "Epoch 00004: early stopping\n",
      "training model for CV #8\n",
      "Epoch 1/20\n",
      "229/229 [==============================] - 4s 16ms/step - loss: 0.1763 - acc: 0.9439 - val_loss: 0.1629 - val_acc: 0.9483\n",
      "Epoch 2/20\n",
      "229/229 [==============================] - 4s 16ms/step - loss: 0.1593 - acc: 0.9497 - val_loss: 0.1921 - val_acc: 0.9378\n",
      "Epoch 3/20\n",
      "229/229 [==============================] - 4s 15ms/step - loss: 0.1475 - acc: 0.9555 - val_loss: 0.2118 - val_acc: 0.9323\n",
      "Epoch 4/20\n",
      "229/229 [==============================] - 4s 16ms/step - loss: 0.1322 - acc: 0.9588 - val_loss: 0.2354 - val_acc: 0.9273\n",
      "Restoring model weights from the end of the best epoch.\n",
      "Epoch 00004: early stopping\n",
      "training model for CV #9\n",
      "Epoch 1/20\n",
      "229/229 [==============================] - 4s 16ms/step - loss: 0.1652 - acc: 0.9485 - val_loss: 0.1429 - val_acc: 0.9527\n",
      "Epoch 2/20\n",
      "229/229 [==============================] - 4s 16ms/step - loss: 0.1480 - acc: 0.9531 - val_loss: 0.1659 - val_acc: 0.9457\n",
      "Epoch 3/20\n",
      "229/229 [==============================] - 4s 16ms/step - loss: 0.1380 - acc: 0.9574 - val_loss: 0.1878 - val_acc: 0.9413\n",
      "Epoch 4/20\n",
      "229/229 [==============================] - 4s 16ms/step - loss: 0.1258 - acc: 0.9609 - val_loss: 0.2119 - val_acc: 0.9349\n",
      "Restoring model weights from the end of the best epoch.\n",
      "Epoch 00004: early stopping\n",
      "training model for CV #10\n",
      "Epoch 1/20\n",
      "229/229 [==============================] - 4s 16ms/step - loss: 0.1546 - acc: 0.9523 - val_loss: 0.1198 - val_acc: 0.9634\n",
      "Epoch 2/20\n",
      "229/229 [==============================] - 4s 15ms/step - loss: 0.1415 - acc: 0.9551 - val_loss: 0.1355 - val_acc: 0.9542\n",
      "Epoch 3/20\n",
      "229/229 [==============================] - 4s 16ms/step - loss: 0.1295 - acc: 0.9597 - val_loss: 0.1546 - val_acc: 0.9492\n",
      "Epoch 4/20\n",
      "229/229 [==============================] - 4s 16ms/step - loss: 0.1183 - acc: 0.9625 - val_loss: 0.1728 - val_acc: 0.9465\n",
      "Restoring model weights from the end of the best epoch.\n",
      "Epoch 00004: early stopping\n"
     ]
    }
   ],
   "source": [
    "# 계층 교차 검증\n",
    "n_fold = 10 \n",
    "seed = 21\n",
    "\n",
    "cv = StratifiedKFold(n_splits = n_fold, shuffle=True, random_state=seed)\n",
    "\n",
    "# 테스트데이터의 예측값 담을 곳 생성\n",
    "test_y = np.zeros((test_x.shape[0], 7))\n",
    "\n",
    "# 조기 종료 옵션 추가\n",
    "\n",
    "es = EarlyStopping(monitor='val_loss', min_delta=0.001, patience=3,\n",
    "                   verbose=1, mode='min', baseline=None, restore_best_weights=True)\n",
    "\n",
    "for i, (i_trn, i_val) in enumerate(cv.split(train_x, Y_train), 1):\n",
    "    print(f'training model for CV #{i}')\n",
    "\n",
    "    model_lstm.fit(train_x[i_trn], \n",
    "            to_categorical(Y_train[i_trn]),\n",
    "            validation_data=(train_x[i_val], to_categorical(Y_train[i_val])),\n",
    "            epochs=20,\n",
    "            batch_size=180,\n",
    "            callbacks=[es])     # 조기 종료 옵션\n",
    "                      \n",
    "    test_y += model_lstm.predict(test_x) / n_fold    # 나온 예측값들을 교차 검증 횟수로 나눈다"
   ]
  },
  {
   "cell_type": "code",
   "execution_count": null,
   "id": "1cbb05d1",
   "metadata": {},
   "outputs": [],
   "source": []
  },
  {
   "cell_type": "code",
   "execution_count": null,
   "id": "3e2f82b2",
   "metadata": {},
   "outputs": [],
   "source": []
  },
  {
   "cell_type": "markdown",
   "id": "22c33c77",
   "metadata": {},
   "source": [
    "- Test Data"
   ]
  },
  {
   "cell_type": "code",
   "execution_count": 39,
   "id": "e207d999",
   "metadata": {},
   "outputs": [
    {
     "data": {
      "text/plain": [
       "array([[4.53738671e-02, 2.68199232e-02, 1.10607434e-01, ...,\n",
       "        4.88410364e-03, 1.45945586e-04, 1.00344975e-03],\n",
       "       [2.57554324e-04, 2.10724219e-04, 7.49938201e-04, ...,\n",
       "        4.54464353e-04, 3.44279864e-06, 1.10758785e-04],\n",
       "       [7.92950790e-03, 2.73435775e-02, 9.08840664e-01, ...,\n",
       "        1.30608545e-03, 1.06155214e-03, 4.02068116e-02],\n",
       "       ...,\n",
       "       [3.55404766e-02, 3.10791957e-03, 2.95060650e-01, ...,\n",
       "        4.17715490e-02, 2.77512043e-04, 1.51880182e-03],\n",
       "       [2.04279698e-01, 2.74182970e-02, 7.61268716e-01, ...,\n",
       "        1.73126692e-03, 9.69653881e-05, 1.27290674e-03],\n",
       "       [3.80025419e-03, 2.98764165e-03, 6.35839196e-01, ...,\n",
       "        8.96834365e-03, 8.62448170e-04, 3.12454928e-01]])"
      ]
     },
     "execution_count": 39,
     "metadata": {},
     "output_type": "execute_result"
    }
   ],
   "source": [
    "# 테스트 데이터의 예측값 확인\n",
    "test_y"
   ]
  },
  {
   "cell_type": "code",
   "execution_count": 40,
   "id": "b769592c",
   "metadata": {},
   "outputs": [],
   "source": [
    "topic = []\n",
    "for i in range(len(test_y)):\n",
    "    topic.append(np.argmax(test_y[i]))"
   ]
  },
  {
   "cell_type": "code",
   "execution_count": 133,
   "id": "2196d2cf",
   "metadata": {},
   "outputs": [
    {
     "data": {
      "text/html": [
       "<div>\n",
       "<style scoped>\n",
       "    .dataframe tbody tr th:only-of-type {\n",
       "        vertical-align: middle;\n",
       "    }\n",
       "\n",
       "    .dataframe tbody tr th {\n",
       "        vertical-align: top;\n",
       "    }\n",
       "\n",
       "    .dataframe thead th {\n",
       "        text-align: right;\n",
       "    }\n",
       "</style>\n",
       "<table border=\"1\" class=\"dataframe\">\n",
       "  <thead>\n",
       "    <tr style=\"text-align: right;\">\n",
       "      <th></th>\n",
       "      <th>index</th>\n",
       "      <th>topic_idx</th>\n",
       "    </tr>\n",
       "  </thead>\n",
       "  <tbody>\n",
       "    <tr>\n",
       "      <th>0</th>\n",
       "      <td>45654</td>\n",
       "      <td>3</td>\n",
       "    </tr>\n",
       "    <tr>\n",
       "      <th>1</th>\n",
       "      <td>45655</td>\n",
       "      <td>3</td>\n",
       "    </tr>\n",
       "    <tr>\n",
       "      <th>2</th>\n",
       "      <td>45656</td>\n",
       "      <td>2</td>\n",
       "    </tr>\n",
       "    <tr>\n",
       "      <th>3</th>\n",
       "      <td>45657</td>\n",
       "      <td>0</td>\n",
       "    </tr>\n",
       "    <tr>\n",
       "      <th>4</th>\n",
       "      <td>45658</td>\n",
       "      <td>3</td>\n",
       "    </tr>\n",
       "    <tr>\n",
       "      <th>...</th>\n",
       "      <td>...</td>\n",
       "      <td>...</td>\n",
       "    </tr>\n",
       "    <tr>\n",
       "      <th>9126</th>\n",
       "      <td>54780</td>\n",
       "      <td>3</td>\n",
       "    </tr>\n",
       "    <tr>\n",
       "      <th>9127</th>\n",
       "      <td>54781</td>\n",
       "      <td>2</td>\n",
       "    </tr>\n",
       "    <tr>\n",
       "      <th>9128</th>\n",
       "      <td>54782</td>\n",
       "      <td>3</td>\n",
       "    </tr>\n",
       "    <tr>\n",
       "      <th>9129</th>\n",
       "      <td>54783</td>\n",
       "      <td>2</td>\n",
       "    </tr>\n",
       "    <tr>\n",
       "      <th>9130</th>\n",
       "      <td>54784</td>\n",
       "      <td>2</td>\n",
       "    </tr>\n",
       "  </tbody>\n",
       "</table>\n",
       "<p>9131 rows × 2 columns</p>\n",
       "</div>"
      ],
      "text/plain": [
       "      index  topic_idx\n",
       "0     45654          3\n",
       "1     45655          3\n",
       "2     45656          2\n",
       "3     45657          0\n",
       "4     45658          3\n",
       "...     ...        ...\n",
       "9126  54780          3\n",
       "9127  54781          2\n",
       "9128  54782          3\n",
       "9129  54783          2\n",
       "9130  54784          2\n",
       "\n",
       "[9131 rows x 2 columns]"
      ]
     },
     "execution_count": 133,
     "metadata": {},
     "output_type": "execute_result"
    }
   ],
   "source": [
    "# sample_submission 에 대입\n",
    "submission['topic_idx'] = topic\n",
    "submission"
   ]
  },
  {
   "cell_type": "code",
   "execution_count": 42,
   "id": "dc289efc",
   "metadata": {},
   "outputs": [],
   "source": [
    "submission.to_csv('자연어_cv02.csv',index = False)"
   ]
  },
  {
   "cell_type": "code",
   "execution_count": 43,
   "id": "b25e33e6",
   "metadata": {},
   "outputs": [],
   "source": [
    "tmp_pred = model_lstm.predict(test_x)\n",
    "\n",
    "pred = np.argmax(tmp_pred, axis = 1)"
   ]
  },
  {
   "cell_type": "code",
   "execution_count": 44,
   "id": "f55fcdf8",
   "metadata": {},
   "outputs": [
    {
     "data": {
      "text/html": [
       "<div>\n",
       "<style scoped>\n",
       "    .dataframe tbody tr th:only-of-type {\n",
       "        vertical-align: middle;\n",
       "    }\n",
       "\n",
       "    .dataframe tbody tr th {\n",
       "        vertical-align: top;\n",
       "    }\n",
       "\n",
       "    .dataframe thead th {\n",
       "        text-align: right;\n",
       "    }\n",
       "</style>\n",
       "<table border=\"1\" class=\"dataframe\">\n",
       "  <thead>\n",
       "    <tr style=\"text-align: right;\">\n",
       "      <th></th>\n",
       "      <th>index</th>\n",
       "      <th>topic_idx</th>\n",
       "    </tr>\n",
       "  </thead>\n",
       "  <tbody>\n",
       "    <tr>\n",
       "      <th>8924</th>\n",
       "      <td>54578</td>\n",
       "      <td>2</td>\n",
       "    </tr>\n",
       "    <tr>\n",
       "      <th>1079</th>\n",
       "      <td>46733</td>\n",
       "      <td>4</td>\n",
       "    </tr>\n",
       "    <tr>\n",
       "      <th>8298</th>\n",
       "      <td>53952</td>\n",
       "      <td>2</td>\n",
       "    </tr>\n",
       "    <tr>\n",
       "      <th>4829</th>\n",
       "      <td>50483</td>\n",
       "      <td>3</td>\n",
       "    </tr>\n",
       "    <tr>\n",
       "      <th>1183</th>\n",
       "      <td>46837</td>\n",
       "      <td>0</td>\n",
       "    </tr>\n",
       "    <tr>\n",
       "      <th>5935</th>\n",
       "      <td>51589</td>\n",
       "      <td>0</td>\n",
       "    </tr>\n",
       "    <tr>\n",
       "      <th>4645</th>\n",
       "      <td>50299</td>\n",
       "      <td>6</td>\n",
       "    </tr>\n",
       "    <tr>\n",
       "      <th>6989</th>\n",
       "      <td>52643</td>\n",
       "      <td>5</td>\n",
       "    </tr>\n",
       "    <tr>\n",
       "      <th>4968</th>\n",
       "      <td>50622</td>\n",
       "      <td>5</td>\n",
       "    </tr>\n",
       "    <tr>\n",
       "      <th>4059</th>\n",
       "      <td>49713</td>\n",
       "      <td>6</td>\n",
       "    </tr>\n",
       "  </tbody>\n",
       "</table>\n",
       "</div>"
      ],
      "text/plain": [
       "      index  topic_idx\n",
       "8924  54578          2\n",
       "1079  46733          4\n",
       "8298  53952          2\n",
       "4829  50483          3\n",
       "1183  46837          0\n",
       "5935  51589          0\n",
       "4645  50299          6\n",
       "6989  52643          5\n",
       "4968  50622          5\n",
       "4059  49713          6"
      ]
     },
     "execution_count": 44,
     "metadata": {},
     "output_type": "execute_result"
    }
   ],
   "source": [
    "submission.topic_idx = pred\n",
    "submission.sample(10)"
   ]
  },
  {
   "cell_type": "code",
   "execution_count": null,
   "id": "0ec51447",
   "metadata": {},
   "outputs": [],
   "source": []
  },
  {
   "cell_type": "code",
   "execution_count": null,
   "id": "70d728a2",
   "metadata": {},
   "outputs": [],
   "source": []
  },
  {
   "cell_type": "code",
   "execution_count": null,
   "id": "bbcc6276",
   "metadata": {},
   "outputs": [],
   "source": []
  },
  {
   "cell_type": "code",
   "execution_count": null,
   "id": "6b5710bc",
   "metadata": {},
   "outputs": [],
   "source": []
  },
  {
   "cell_type": "code",
   "execution_count": null,
   "id": "f40c1e32",
   "metadata": {},
   "outputs": [],
   "source": []
  },
  {
   "cell_type": "code",
   "execution_count": null,
   "id": "fdabca34",
   "metadata": {},
   "outputs": [],
   "source": []
  },
  {
   "cell_type": "code",
   "execution_count": null,
   "id": "f4d1797d",
   "metadata": {},
   "outputs": [],
   "source": []
  },
  {
   "cell_type": "code",
   "execution_count": null,
   "id": "4e3d0765",
   "metadata": {},
   "outputs": [],
   "source": []
  },
  {
   "cell_type": "code",
   "execution_count": null,
   "id": "6f3c5895",
   "metadata": {},
   "outputs": [],
   "source": []
  },
  {
   "cell_type": "code",
   "execution_count": null,
   "id": "a7026a87",
   "metadata": {},
   "outputs": [],
   "source": []
  },
  {
   "cell_type": "code",
   "execution_count": null,
   "id": "70299ea9",
   "metadata": {},
   "outputs": [],
   "source": []
  },
  {
   "cell_type": "code",
   "execution_count": null,
   "id": "82676a7a",
   "metadata": {},
   "outputs": [],
   "source": []
  }
 ],
 "metadata": {
  "kernelspec": {
   "display_name": "Python 3",
   "language": "python",
   "name": "python3"
  },
  "language_info": {
   "codemirror_mode": {
    "name": "ipython",
    "version": 3
   },
   "file_extension": ".py",
   "mimetype": "text/x-python",
   "name": "python",
   "nbconvert_exporter": "python",
   "pygments_lexer": "ipython3",
   "version": "3.8.8"
  }
 },
 "nbformat": 4,
 "nbformat_minor": 5
}
